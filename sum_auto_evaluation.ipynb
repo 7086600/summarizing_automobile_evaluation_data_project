{
 "cells": [
  {
   "cell_type": "markdown",
   "id": "19c1d702",
   "metadata": {},
   "source": [
    "# Summarizing Automobile Evaluation Data\n",
    "\n",
    "## Overview\n",
    "\n",
    "\n",
    "\n",
    "## Project Goals\n",
    "\n",
    "\n",
    "## Actions\n",
    "\n",
    "- analyze data;\n",
    "- clean up the datasets;\n",
    "- \n",
    "- making conclusions based on the analysis.\n",
    "\n",
    "## Data\n",
    "\n",
    "Оne data set is submitted for the project.\n",
    "\n",
    "file - contains information about ...\n",
    "\n",
    "## Analysis\n",
    "\n"
   ]
  }
 ],
 "metadata": {
  "language_info": {
   "name": "python"
  }
 },
 "nbformat": 4,
 "nbformat_minor": 5
}

{
 "cells": [
  {
   "cell_type": "markdown",
   "id": "19c1d702",
   "metadata": {},
   "source": [
    "# Summarizing Automobile Evaluation Data\n",
    "\n",
    "## Overview\n",
    "In the following project we’ll use skills about summarizing categorical data to analyze a sample from a popular open source dataset. This dataset contains information on the cost and physical attributes of several thousand cars. \n",
    "\n",
    "\n",
    "## Project Goals\n",
    "The main goal of this project is to apply categorical data analysis methods in practice. Here are some questions that are planned to be considered:\n",
    "- which data in the set is categorical\n",
    "- nominal categorical data, frequency of distribution and proportions\n",
    "- encoding ordinal categorical data, spread and central tendency\n",
    "\n",
    "## Actions\n",
    "\n",
    "- analyze data;\n",
    "- clean up the datasets;\n",
    "- using methods for analyzing categorical data;\n",
    "- making conclusions based on the analysis.\n",
    "\n",
    "## Data\n",
    "\n",
    "Оne data set is submitted for the project.\n",
    "\n",
    "car_eval_dataset.csv - contains information on the cost and physical attributes of several thousand cars.\n",
    "\n",
    "The car evaluation dataset has been sourced from the UCI Machine Learning Repository and has been slightly modified for this project. Specifically, one additional field manufacturer_country has been simulated for illustrative purposes. You can read more about the details, features, and original uses of this dataset in research on the [UCI data description page.](https://archive.ics.uci.edu/dataset/19/car+evaluation)\n",
    "\n",
    "## Analysis\n",
    "\n",
    "The analysis contains the main methods and calculations related to the analysis of categorical data. Namely:\n",
    "- Distribution of categorical data\n",
    "- Frequency distribution and proportions for nominal categorical data\n",
    "- Encoding of ordinal categorical data, distribution and central tendency\n"
   ]
  },
  {
   "cell_type": "code",
   "execution_count": 3,
   "id": "f1811931",
   "metadata": {},
   "outputs": [],
   "source": [
    "# importing necessary libraries\n",
    "import pandas as pd\n",
    "import numpy as np\n",
    "\n",
    "# setting options\n",
    "pd.set_option('display.max_columns', None)\n",
    "pd.set_option(\"display.float_format\", \"{:.2f}\".format)\n",
    "pd.set_option('max_colwidth', 0)"
   ]
  },
  {
   "cell_type": "code",
   "execution_count": 4,
   "id": "df797c9f",
   "metadata": {},
   "outputs": [
    {
     "data": {
      "text/html": [
       "<div>\n",
       "<style scoped>\n",
       "    .dataframe tbody tr th:only-of-type {\n",
       "        vertical-align: middle;\n",
       "    }\n",
       "\n",
       "    .dataframe tbody tr th {\n",
       "        vertical-align: top;\n",
       "    }\n",
       "\n",
       "    .dataframe thead th {\n",
       "        text-align: right;\n",
       "    }\n",
       "</style>\n",
       "<table border=\"1\" class=\"dataframe\">\n",
       "  <thead>\n",
       "    <tr style=\"text-align: right;\">\n",
       "      <th></th>\n",
       "      <th>buying_cost</th>\n",
       "      <th>maintenance_cost</th>\n",
       "      <th>doors</th>\n",
       "      <th>capacity</th>\n",
       "      <th>luggage</th>\n",
       "      <th>safety</th>\n",
       "      <th>acceptability</th>\n",
       "      <th>manufacturer_country</th>\n",
       "    </tr>\n",
       "  </thead>\n",
       "  <tbody>\n",
       "    <tr>\n",
       "      <th>0</th>\n",
       "      <td>vhigh</td>\n",
       "      <td>low</td>\n",
       "      <td>4</td>\n",
       "      <td>4</td>\n",
       "      <td>small</td>\n",
       "      <td>med</td>\n",
       "      <td>unacc</td>\n",
       "      <td>China</td>\n",
       "    </tr>\n",
       "    <tr>\n",
       "      <th>1</th>\n",
       "      <td>vhigh</td>\n",
       "      <td>med</td>\n",
       "      <td>3</td>\n",
       "      <td>4</td>\n",
       "      <td>small</td>\n",
       "      <td>high</td>\n",
       "      <td>acc</td>\n",
       "      <td>France</td>\n",
       "    </tr>\n",
       "    <tr>\n",
       "      <th>2</th>\n",
       "      <td>med</td>\n",
       "      <td>high</td>\n",
       "      <td>3</td>\n",
       "      <td>2</td>\n",
       "      <td>med</td>\n",
       "      <td>high</td>\n",
       "      <td>unacc</td>\n",
       "      <td>United States</td>\n",
       "    </tr>\n",
       "    <tr>\n",
       "      <th>3</th>\n",
       "      <td>low</td>\n",
       "      <td>med</td>\n",
       "      <td>4</td>\n",
       "      <td>more</td>\n",
       "      <td>big</td>\n",
       "      <td>low</td>\n",
       "      <td>unacc</td>\n",
       "      <td>United States</td>\n",
       "    </tr>\n",
       "    <tr>\n",
       "      <th>4</th>\n",
       "      <td>low</td>\n",
       "      <td>high</td>\n",
       "      <td>2</td>\n",
       "      <td>more</td>\n",
       "      <td>med</td>\n",
       "      <td>high</td>\n",
       "      <td>acc</td>\n",
       "      <td>South Korea</td>\n",
       "    </tr>\n",
       "  </tbody>\n",
       "</table>\n",
       "</div>"
      ],
      "text/plain": [
       "  buying_cost maintenance_cost doors capacity luggage safety acceptability  \\\n",
       "0  vhigh       low              4     4        small   med    unacc          \n",
       "1  vhigh       med              3     4        small   high   acc            \n",
       "2  med         high             3     2        med     high   unacc          \n",
       "3  low         med              4     more     big     low    unacc          \n",
       "4  low         high             2     more     med     high   acc            \n",
       "\n",
       "  manufacturer_country  \n",
       "0  China                \n",
       "1  France               \n",
       "2  United States        \n",
       "3  United States        \n",
       "4  South Korea          "
      ]
     },
     "execution_count": 4,
     "metadata": {},
     "output_type": "execute_result"
    }
   ],
   "source": [
    "# load and view data\n",
    "cars = pd.read_csv('car_eval_dataset.csv')\n",
    "cars.head()"
   ]
  },
  {
   "cell_type": "code",
   "execution_count": 5,
   "id": "89e48882",
   "metadata": {},
   "outputs": [
    {
     "data": {
      "text/plain": [
       "buying_cost             object\n",
       "maintenance_cost        object\n",
       "doors                   object\n",
       "capacity                object\n",
       "luggage                 object\n",
       "safety                  object\n",
       "acceptability           object\n",
       "manufacturer_country    object\n",
       "dtype: object"
      ]
     },
     "execution_count": 5,
     "metadata": {},
     "output_type": "execute_result"
    }
   ],
   "source": [
    "# check types of each column\n",
    "cars.dtypes"
   ]
  },
  {
   "cell_type": "code",
   "execution_count": 8,
   "id": "348fdaad",
   "metadata": {},
   "outputs": [
    {
     "name": "stdout",
     "output_type": "stream",
     "text": [
      "<class 'pandas.core.frame.DataFrame'>\n",
      "RangeIndex: 1000 entries, 0 to 999\n",
      "Data columns (total 8 columns):\n",
      " #   Column                Non-Null Count  Dtype \n",
      "---  ------                --------------  ----- \n",
      " 0   buying_cost           1000 non-null   object\n",
      " 1   maintenance_cost      1000 non-null   object\n",
      " 2   doors                 1000 non-null   object\n",
      " 3   capacity              1000 non-null   object\n",
      " 4   luggage               1000 non-null   object\n",
      " 5   safety                1000 non-null   object\n",
      " 6   acceptability         1000 non-null   object\n",
      " 7   manufacturer_country  1000 non-null   object\n",
      "dtypes: object(8)\n",
      "memory usage: 62.6+ KB\n"
     ]
    }
   ],
   "source": [
    "cars.info()"
   ]
  },
  {
   "cell_type": "markdown",
   "id": "bc661ac8",
   "metadata": {},
   "source": [
    "There are several columns in the dataset, including:\n",
    "- buying_cost - buying price\n",
    "- maintenance_cost - price of the maintenance\n",
    "- doors - number of doors\n",
    "- capacity - capacity in terms of persons to carry\n",
    "- luggage - the size of luggage boot\n",
    "- safety - estimated safety of the car\n",
    "- acceptability - evaulation level (unacceptable, acceptable, good, very good)\n",
    "- manufacturer_country - country of the manufacturer\n"
   ]
  },
  {
   "cell_type": "markdown",
   "id": "edebc4ad",
   "metadata": {},
   "source": [
    "### Summarizing Manufacturing Country\n",
    "\n",
    "`manufacturer_country` is a nominal categorical variable that indicates the country of the manufacturer of each car reviewed.\n",
    "\n",
    "#### Create a table of frequencies of all the cars reviewed by manufacturer country"
   ]
  },
  {
   "cell_type": "code",
   "execution_count": 6,
   "id": "d86c1533",
   "metadata": {},
   "outputs": [
    {
     "data": {
      "text/plain": [
       "manufacturer_country\n",
       "Japan            228\n",
       "Germany          218\n",
       "South Korea      159\n",
       "United States    138\n",
       "Italy            97 \n",
       "France           87 \n",
       "China            73 \n",
       "Name: count, dtype: int64"
      ]
     },
     "execution_count": 6,
     "metadata": {},
     "output_type": "execute_result"
    }
   ],
   "source": [
    "cars['manufacturer_country'].value_counts()"
   ]
  },
  {
   "cell_type": "markdown",
   "id": "2974bc6e",
   "metadata": {},
   "source": [
    "The Japanese cars are the most reviewed. The cars from Italy are on the 5th position."
   ]
  },
  {
   "cell_type": "markdown",
   "id": "2642272b",
   "metadata": {},
   "source": [
    "#### Calculate a table of proportions for countries."
   ]
  },
  {
   "cell_type": "code",
   "execution_count": 7,
   "id": "b179a242",
   "metadata": {},
   "outputs": [
    {
     "data": {
      "text/plain": [
       "manufacturer_country\n",
       "Japan           0.23\n",
       "Germany         0.22\n",
       "South Korea     0.16\n",
       "United States   0.14\n",
       "Italy           0.10\n",
       "France          0.09\n",
       "China           0.07\n",
       "Name: proportion, dtype: float64"
      ]
     },
     "execution_count": 7,
     "metadata": {},
     "output_type": "execute_result"
    }
   ],
   "source": [
    "cars['manufacturer_country'].value_counts(normalize=True)"
   ]
  },
  {
   "cell_type": "markdown",
   "id": "5c36bb4a",
   "metadata": {},
   "source": [
    "The Japanese cars have 23% proportion in dataset."
   ]
  },
  {
   "cell_type": "markdown",
   "id": "9c1537ac",
   "metadata": {},
   "source": [
    "### Summarizing Buying Costs\n",
    "\n",
    "`buying_cost` is a categorical variable which describes the cost of buying any car in the dataset.\n",
    "\n",
    "#### The list of the possible values of buying cost"
   ]
  },
  {
   "cell_type": "code",
   "execution_count": 12,
   "id": "cb96253b",
   "metadata": {},
   "outputs": [
    {
     "data": {
      "text/plain": [
       "['vhigh', 'med', 'low', 'high']"
      ]
     },
     "execution_count": 12,
     "metadata": {},
     "output_type": "execute_result"
    }
   ],
   "source": [
    "cars['buying_cost'].unique().tolist()"
   ]
  },
  {
   "cell_type": "markdown",
   "id": "49c13732",
   "metadata": {},
   "source": [
    "`buying_cost` is an ordinal categorical variable, which means we can create an order associated with the values in the data and perform additional numeric operations on the variable. Create a new list, `buying_cost_categories`, that contains the unique values in `buying_cost`, ordered from lowest to highest"
   ]
  },
  {
   "cell_type": "code",
   "execution_count": 13,
   "id": "57308900",
   "metadata": {},
   "outputs": [],
   "source": [
    "buying_cost_categories = ['low', 'med', 'high', 'vhigh']"
   ]
  },
  {
   "cell_type": "markdown",
   "id": "d9cc5343",
   "metadata": {},
   "source": [
    "Convert `buying_cost` to type 'category'"
   ]
  },
  {
   "cell_type": "code",
   "execution_count": 16,
   "id": "246f9105",
   "metadata": {},
   "outputs": [],
   "source": [
    "cars['buying_cost'] = pd.Categorical(cars['buying_cost'], categories=buying_cost_categories, ordered=True)"
   ]
  },
  {
   "cell_type": "markdown",
   "id": "ce06b973",
   "metadata": {},
   "source": [
    "Calculate the median category of the `buying_cost` variable and print it out"
   ]
  },
  {
   "cell_type": "code",
   "execution_count": 22,
   "id": "aac83de5",
   "metadata": {},
   "outputs": [
    {
     "name": "stdout",
     "output_type": "stream",
     "text": [
      "1.0\n",
      "med\n"
     ]
    }
   ],
   "source": [
    "median_buying_cost = np.median(cars['buying_cost'].cat.codes)\n",
    "print(median_buying_cost)\n",
    "\n",
    "median_buying_cost_category = buying_cost_categories[int(median_buying_cost)]\n",
    "print(median_buying_cost_category)"
   ]
  },
  {
   "cell_type": "markdown",
   "id": "f217f662",
   "metadata": {},
   "source": [
    "### Summarizing Luggage Capacity\n"
   ]
  }
 ],
 "metadata": {
  "kernelspec": {
   "display_name": "base",
   "language": "python",
   "name": "python3"
  },
  "language_info": {
   "codemirror_mode": {
    "name": "ipython",
    "version": 3
   },
   "file_extension": ".py",
   "mimetype": "text/x-python",
   "name": "python",
   "nbconvert_exporter": "python",
   "pygments_lexer": "ipython3",
   "version": "3.11.11"
  }
 },
 "nbformat": 4,
 "nbformat_minor": 5
}

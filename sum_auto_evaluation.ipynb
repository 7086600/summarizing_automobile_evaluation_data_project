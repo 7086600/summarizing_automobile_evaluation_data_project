{
 "cells": [
  {
   "cell_type": "markdown",
   "id": "19c1d702",
   "metadata": {},
   "source": [
    "# Summarizing Automobile Evaluation Data\n",
    "\n",
    "## Overview\n",
    "In the following project we’ll use skills about summarizing categorical data to analyze a sample from a popular open source dataset. This dataset contains information on the cost and physical attributes of several thousand cars. \n",
    "\n",
    "\n",
    "## Project Goals\n",
    "The main goal of this project is to apply categorical data analysis methods in practice. Here are some questions that are planned to be considered:\n",
    "- which data in the set is categorical\n",
    "- nominal categorical data, frequency of distribution and proportions\n",
    "- encoding ordinal categorical data, spread and central tendency\n",
    "\n",
    "## Actions\n",
    "\n",
    "- analyze data;\n",
    "- clean up the datasets;\n",
    "- using methods for analyzing categorical data;\n",
    "- making conclusions based on the analysis.\n",
    "\n",
    "## Data\n",
    "\n",
    "Оne data set is submitted for the project.\n",
    "\n",
    "car_eval_dataset.csv - contains information on the cost and physical attributes of several thousand cars.\n",
    "\n",
    "The car evaluation dataset has been sourced from the UCI Machine Learning Repository and has been slightly modified for this project. Specifically, one additional field manufacturer_country has been simulated for illustrative purposes. You can read more about the details, features, and original uses of this dataset in research on the [UCI data description page.](https://archive.ics.uci.edu/dataset/19/car+evaluation)\n",
    "\n",
    "## Analysis\n",
    "\n",
    "The analysis contains the main methods and calculations related to the analysis of categorical data. Namely:\n",
    "- Distribution of categorical data\n",
    "- Frequency distribution and proportions for nominal categorical data\n",
    "- Encoding of ordinal categorical data, distribution and central tendency\n"
   ]
  }
 ],
 "metadata": {
  "language_info": {
   "name": "python"
  }
 },
 "nbformat": 4,
 "nbformat_minor": 5
}
